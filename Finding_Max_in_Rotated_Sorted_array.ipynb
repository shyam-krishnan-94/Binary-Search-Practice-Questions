{
  "nbformat": 4,
  "nbformat_minor": 0,
  "metadata": {
    "colab": {
      "provenance": []
    },
    "kernelspec": {
      "name": "python3",
      "display_name": "Python 3"
    },
    "language_info": {
      "name": "python"
    }
  },
  "cells": [
    {
      "cell_type": "code",
      "execution_count": null,
      "metadata": {
        "id": "1Ucwod_ClW3a"
      },
      "outputs": [],
      "source": [
        "def find_max(lst):\n",
        "  start=0\n",
        "  end=len(lst)-1\n",
        "  result=-9999\n",
        "  while start<=end:\n",
        "    mid=(start+end)//2\n",
        "    if lst[mid]>=lst[start]:\n",
        "      result=max(result,lst[mid])\n",
        "      start=mid+1\n",
        "    else:\n",
        "      result=max(result,lst[mid])\n",
        "      end=mid-1\n",
        "  return result\n"
      ]
    },
    {
      "cell_type": "code",
      "source": [
        "nums=[1,2,3,4,5]\n",
        "print(find_max(nums))"
      ],
      "metadata": {
        "colab": {
          "base_uri": "https://localhost:8080/"
        },
        "id": "LuHgLCaQp8mA",
        "outputId": "f372eb8a-7a5e-4cc8-fcfd-92e22aafb5ba"
      },
      "execution_count": null,
      "outputs": [
        {
          "output_type": "stream",
          "name": "stdout",
          "text": [
            "5\n"
          ]
        }
      ]
    }
  ]
}