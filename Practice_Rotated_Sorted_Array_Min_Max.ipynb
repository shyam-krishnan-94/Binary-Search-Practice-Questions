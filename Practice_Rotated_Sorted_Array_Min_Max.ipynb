{
  "nbformat": 4,
  "nbformat_minor": 0,
  "metadata": {
    "colab": {
      "provenance": []
    },
    "kernelspec": {
      "name": "python3",
      "display_name": "Python 3"
    },
    "language_info": {
      "name": "python"
    }
  },
  "cells": [
    {
      "cell_type": "code",
      "execution_count": 30,
      "metadata": {
        "colab": {
          "base_uri": "https://localhost:8080/"
        },
        "id": "srK5_MhAhvXx",
        "outputId": "ae4ca28e-7027-4925-b914-12ce345146aa"
      },
      "outputs": [
        {
          "output_type": "stream",
          "name": "stdout",
          "text": [
            "1 3\n"
          ]
        }
      ],
      "source": [
        "#Ascending order sorted array - Smallest\n",
        "lst=[3,4,5,1,2]\n",
        "\n",
        "start=0\n",
        "end=len(lst)-1\n",
        "minimal=9999\n",
        "count=0\n",
        "while start<=end:\n",
        "  mid=(start+end)//2\n",
        "  if lst[start]<=lst[mid]:\n",
        "    minimal=min(lst[mid],minimal)\n",
        "    start=mid+1\n",
        "  else:\n",
        "    end=mid-1\n",
        "    minimal=min(lst[mid],minimal)\n",
        "  count=count+1\n",
        "print(minimal,count)\n"
      ]
    },
    {
      "cell_type": "code",
      "source": [
        "#Ascending order sorted array - largest\n",
        "lst=[3,4,5,1,2]\n",
        "\n",
        "start=0\n",
        "end=len(lst)-1\n",
        "maximal=-9999\n",
        "while start<=end:\n",
        "  mid=(start+end)//2\n",
        "  if lst[start]<=lst[mid]:\n",
        "    maximal=max(lst[mid],maximal)\n",
        "    end=mid-1\n",
        "  else:\n",
        "    start=mid+1\n",
        "    maximal=max(lst[mid],maximal)\n",
        "print(maximal)\n"
      ],
      "metadata": {
        "colab": {
          "base_uri": "https://localhost:8080/"
        },
        "id": "Go7sVnjuYj8S",
        "outputId": "f27b5703-4df4-4199-ba2e-56ab7a386242"
      },
      "execution_count": 27,
      "outputs": [
        {
          "output_type": "stream",
          "name": "stdout",
          "text": [
            "5\n"
          ]
        }
      ]
    },
    {
      "cell_type": "code",
      "source": [
        "#Descending order sorted array - Smallest\n",
        "lst=[1,2,5,4,3]\n",
        "\n",
        "start=0\n",
        "end=len(lst)-1\n",
        "minimal=9999\n",
        "while start<=end:\n",
        "  mid=(start+end)//2\n",
        "  if lst[start]>=lst[mid]:\n",
        "    minimal=min(lst[mid],minimal)\n",
        "    start=mid+1\n",
        "  else:\n",
        "    end=mid-1\n",
        "    minimal=min(lst[mid],minimal)\n",
        "print(minimal)\n"
      ],
      "metadata": {
        "colab": {
          "base_uri": "https://localhost:8080/"
        },
        "id": "fReDZ9mzZQNY",
        "outputId": "401eb5a1-4054-4b6d-8e4b-601c0509aac0"
      },
      "execution_count": 28,
      "outputs": [
        {
          "output_type": "stream",
          "name": "stdout",
          "text": [
            "1\n"
          ]
        }
      ]
    },
    {
      "cell_type": "code",
      "source": [
        "#Descending order sorted array - largest\n",
        "lst=[1,2,5,4,3]\n",
        "\n",
        "start=0\n",
        "end=len(lst)-1\n",
        "maximal=-9999\n",
        "while start<=end:\n",
        "  mid=(start+end)//2\n",
        "  if lst[start]<=lst[mid]:\n",
        "    maximal=max(lst[mid],maximal)\n",
        "    start=mid+1\n",
        "  else:\n",
        "    end=mid-1\n",
        "    maximal=max(lst[mid],maximal)\n",
        "print(maximal)\n"
      ],
      "metadata": {
        "colab": {
          "base_uri": "https://localhost:8080/"
        },
        "id": "jspTQmLAZwj1",
        "outputId": "cb288db3-a6fe-458e-f633-6b2babf53f8b"
      },
      "execution_count": 29,
      "outputs": [
        {
          "output_type": "stream",
          "name": "stdout",
          "text": [
            "5\n"
          ]
        }
      ]
    }
  ]
}