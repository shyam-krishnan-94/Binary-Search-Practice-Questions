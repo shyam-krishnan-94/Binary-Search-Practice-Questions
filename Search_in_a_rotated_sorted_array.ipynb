{
  "nbformat": 4,
  "nbformat_minor": 0,
  "metadata": {
    "colab": {
      "provenance": []
    },
    "kernelspec": {
      "name": "python3",
      "display_name": "Python 3"
    },
    "language_info": {
      "name": "python"
    }
  },
  "cells": [
    {
      "cell_type": "code",
      "execution_count": 2,
      "metadata": {
        "colab": {
          "base_uri": "https://localhost:8080/"
        },
        "id": "IEmyX7g3-IJi",
        "outputId": "594d6df0-bf68-4bbc-a784-0da8ecbe128c"
      },
      "outputs": [
        {
          "output_type": "stream",
          "name": "stdout",
          "text": [
            "Yes found 7\n",
            "Not Found\n"
          ]
        }
      ],
      "source": [
        "lst=[4,5,6,7,8,9,0,1,2]\n",
        "target=1\n",
        "start=0\n",
        "end=len(lst)-1\n",
        "while(start<end):\n",
        "  mid=(start+end)//2\n",
        "  if lst[mid]==target:\n",
        "    print(\"Yes found\",mid)\n",
        "  if lst[start]<=lst[mid]:\n",
        "    if lst[start]<=target<=lst[mid]:\n",
        "      end=mid-1\n",
        "    else:\n",
        "      start=mid+1\n",
        "  else:\n",
        "    if lst[mid]<=target<=lst[end]:\n",
        "      start=mid+1\n",
        "    else:\n",
        "      end=mid-1\n",
        "print(\"Not Found\")"
      ]
    }
  ]
}