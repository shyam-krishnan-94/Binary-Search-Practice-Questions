{
  "nbformat": 4,
  "nbformat_minor": 0,
  "metadata": {
    "colab": {
      "provenance": []
    },
    "kernelspec": {
      "name": "python3",
      "display_name": "Python 3"
    },
    "language_info": {
      "name": "python"
    }
  },
  "cells": [
    {
      "cell_type": "code",
      "execution_count": 1,
      "metadata": {
        "colab": {
          "base_uri": "https://localhost:8080/"
        },
        "id": "jhmrgqFhj2-Z",
        "outputId": "38c0945c-6501-4f4c-bb42-88ff055bd05f"
      },
      "outputs": [
        {
          "output_type": "stream",
          "name": "stdout",
          "text": [
            "e\n"
          ]
        }
      ],
      "source": [
        "lst=['a','b','c','d','e']\n",
        "largest_char=lst[0]\n",
        "\n",
        "for i in lst:\n",
        "  if i>largest_char:\n",
        "    largest_char=i\n",
        "print(largest_char)"
      ]
    },
    {
      "cell_type": "code",
      "source": [
        "def next_greatest_letter(letters, target):\n",
        "    \"\"\"\n",
        "    Return the smallest character in letters that is lexicographically greater than target.\n",
        "\n",
        "    Parameters:\n",
        "    letters (List[char]): Sorted array of characters.\n",
        "    target (char): The target character.\n",
        "\n",
        "    Returns:\n",
        "    char: The smallest character greater than target, or the first character if no such character exists.\n",
        "    \"\"\"\n",
        "    # Implement the function logic\n",
        "    \"\"\"\n",
        "    Binary Search Recall\n",
        "    Given a list of array in non-increasing order let's say [5,4,3,2,1]\n",
        "    I will have the start as 0 and end as len(list)\n",
        "    mid=(start+mid)//2\n",
        "    now, while start<=end:\n",
        "            if a[mid]==target:\n",
        "            return a[mid]\n",
        "            if a[mid]<target:\n",
        "               end=mid-1\n",
        "            else:\n",
        "                start=mid+1\"\"\"\n",
        "\n",
        "    \"\"\"\n",
        "    Input = A sorted list of letters and a target character\n",
        "    Output = The smallest character that is greater than the target\n",
        "\n",
        "    Sample Input as [a,b,c,d,e,f], target is d, then output should be e\n",
        "    Sample Input as [a,b,c,d,e,f], target is f, no element is there, so output is f itself\n",
        "    \"\"\"\n",
        "    start=0\n",
        "    end=len(letters-1)\n",
        "\n",
        "    while start<=end:\n",
        "        mid=(start+end)//2\n",
        "        if letters[mid]==target:\n",
        "            return letters[mid+1]\n",
        "        else:\n",
        "            if letters[mid]<target:\n",
        "                start=mid+1\n",
        "            else:\n",
        "                end=mid-1\n",
        "    return letters[0]\n",
        "    pass\n"
      ],
      "metadata": {
        "id": "kqc6faP_oQ_q"
      },
      "execution_count": null,
      "outputs": []
    }
  ]
}