{
  "nbformat": 4,
  "nbformat_minor": 0,
  "metadata": {
    "colab": {
      "provenance": []
    },
    "kernelspec": {
      "name": "python3",
      "display_name": "Python 3"
    },
    "language_info": {
      "name": "python"
    }
  },
  "cells": [
    {
      "cell_type": "code",
      "execution_count": 6,
      "metadata": {
        "id": "OCXGvsgmT6oj"
      },
      "outputs": [],
      "source": [
        "def search_for_element_less_than_0(arr):\n",
        "  count=0\n",
        "  for i in arr:\n",
        "    start=0\n",
        "    end=len(i)-1\n",
        "    while start<=end:\n",
        "      mid=(start+end)//2\n",
        "      if i[mid]>=0:\n",
        "        start=mid+1\n",
        "      else:\n",
        "        count+=(end-mid)+1\n",
        "        end=mid-1\n",
        "  return count"
      ]
    },
    {
      "cell_type": "code",
      "source": [
        "print(search_for_element_less_than_0([-1,-2,-3,-4,-5]))"
      ],
      "metadata": {
        "colab": {
          "base_uri": "https://localhost:8080/"
        },
        "id": "FYMuH6elUFxH",
        "outputId": "aa993793-190b-4fe9-c11e-9970994c3aae"
      },
      "execution_count": 8,
      "outputs": [
        {
          "output_type": "stream",
          "name": "stdout",
          "text": [
            "5\n"
          ]
        }
      ]
    }
  ]
}