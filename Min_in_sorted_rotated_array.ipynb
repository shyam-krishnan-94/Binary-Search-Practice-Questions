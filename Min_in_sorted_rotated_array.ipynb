{
  "nbformat": 4,
  "nbformat_minor": 0,
  "metadata": {
    "colab": {
      "provenance": []
    },
    "kernelspec": {
      "name": "python3",
      "display_name": "Python 3"
    },
    "language_info": {
      "name": "python"
    }
  },
  "cells": [
    {
      "cell_type": "code",
      "execution_count": 6,
      "metadata": {
        "id": "-u1Slo4dp0Qo"
      },
      "outputs": [],
      "source": [
        "def findMin(nums):\n",
        "    # Implement your solution here\n",
        "    start=0\n",
        "    end=len(nums)-1\n",
        "    if nums[start]<nums[end]:\n",
        "      return nums[start]\n",
        "    else:\n",
        "        while start<=end:\n",
        "            mid = (start+end)//2\n",
        "            if nums[mid]>nums[mid+1] and nums[mid-1]>nums[mid]:\n",
        "              return nums[mid+1]\n",
        "            else:\n",
        "              start=mid+1\n",
        "\n",
        "    pass\n"
      ]
    },
    {
      "cell_type": "code",
      "source": [
        "print(findMin([2,3,4,5,0,1]))"
      ],
      "metadata": {
        "colab": {
          "base_uri": "https://localhost:8080/"
        },
        "id": "uQomuLiNp1ff",
        "outputId": "80644f71-5298-4cd6-a563-30964d21e627"
      },
      "execution_count": 7,
      "outputs": [
        {
          "output_type": "stream",
          "name": "stdout",
          "text": [
            "None\n"
          ]
        }
      ]
    }
  ]
}